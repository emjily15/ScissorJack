{
 "cells": [
  {
   "cell_type": "markdown",
   "metadata": {},
   "source": [
    "# Scissor Jack Failure Modes"
   ]
  },
  {
   "cell_type": "code",
   "execution_count": 12,
   "metadata": {},
   "outputs": [],
   "source": [
    "using Roots\n",
    "using ForwardDiff"
   ]
  },
  {
   "cell_type": "code",
   "execution_count": null,
   "metadata": {},
   "outputs": [
    {
     "data": {
      "text/plain": [
       "max_load_buckling"
      ]
     },
     "metadata": {},
     "output_type": "display_data"
    }
   ],
   "source": [
    "#############################################################################\n",
    "# Declaration of commonly used variables:\n",
    "#############################################################################\n",
    "\n",
    "# Diameter of pin and holes in diagonal member and crossbar:\n",
    "d = 0.25 #inches\n",
    "\n",
    "# Thickness of diagonal member:\n",
    "t_d = 0.125 #inches\n",
    "\n",
    "# Thickness of crossbar: assumes square hollow crossbar\n",
    "t_cb = 0.06 #inches\n",
    "\n",
    "#OR\n",
    "\n",
    "#Diameter of crossbar: assumes crossbar is solid round\n",
    "d_cb = 0.5 #inches\n",
    "\n",
    "# Length from center of hole to edge of bar (both diagonal bar and crossbar):\n",
    "l = 0.4 #inches\n",
    "\n",
    "# Width of diagonal member:\n",
    "w_d = 1.25 #inches\n",
    "\n",
    "# Width of crossbar: assumes square hollow crossbar\n",
    "w_cb = 0.5 #inches\n",
    "\n",
    "# Number of shear planes on pin:\n",
    "N = 2\n",
    "\n",
    "# Length of the crossbar:\n",
    "l_cb = 13.02 #inches\n",
    "\n",
    "# Length of the diagonal member:\n",
    "l_d = 8.5 #inches\n",
    "\n",
    "# Yield strength of the diagonal member:\n",
    "S_y_d = 16000 #psi\n",
    "\n",
    "# Yield strength of the crossbar:\n",
    "S_y_cb = 32000 #psi\n",
    "\n",
    "# Yield strength of the pin: (This is actually the tensile strength...)\n",
    "S_y_p = 140000 #psi\n",
    "\n",
    "# Modulus of Elasticity of the crossbar:\n",
    "E_cb = 30000000 #psi\n",
    "\n",
    "# End-conditiion Constant C:\n",
    "C = 1\n",
    "\n",
    "# Applied Force:\n",
    "F_A = 700 #lbf\n",
    "\n",
    "#############################################################################\n",
    "# Declaration of commonly used functions:\n",
    "#############################################################################\n",
    "\n",
    "\"\"\"\n",
    "scissor_forces(applied_force, cross_bar_length; diagonal_length = 8.5)\n",
    "This function returns the force in the diagonal and cross-bar members of a scissor jack.\n",
    "\n",
    "applied_force is the tension force applied to the jack in Newtons\n",
    "cross_bar_length is the length of the cross bar in inches\n",
    "diagonal_length is the length of the diagonal bar in inches. Its default length is 8.5 inches.\n",
    "\"\"\"\n",
    "function scissor_forces(applied_force, cross_bar_length; diagonal_length = 8.5)\n",
    "    alpha = acos(cross_bar_length / (2 * diagonal_length)) #rad\n",
    "    F_d = (1/2) * (applied_force / sin(alpha)) #lbf\n",
    "    F_cb = applied_force * cot(alpha) #lbf\n",
    "    return F_d, F_cb\n",
    "end\n",
    "\n",
    "\"\"\"\n",
    "diagonal_bar_bearing_stress(force, diameter, thickness)\n",
    "This function returns the bearing stress in the diagonal bar\n",
    "\n",
    "force is the force in the diagonal member\n",
    "diameter is the diameter of the hole in the diagonal member\n",
    "thickness is the thickness of the diagonal member\n",
    "\"\"\"\n",
    "function diagonal_bar_bearing_stress(force, diameter, thickness)\n",
    "    return (force) / (2 * diameter * thickness)\n",
    "end\n",
    "\n",
    "\"\"\"\n",
    "cross_bar_bearing_stress(force, diameter, thickness), FOR SQUARE CROSSBAR\n",
    "This function returns the bearing stress in the crossbar for a square shape\n",
    "\n",
    "force is the force in the crossbar\n",
    "diameter is the diameter of the hole in the crossbar\n",
    "thickness is the thickness of the crossbar\n",
    "\"\"\"\n",
    "function cross_bar_bearing_stress(force, diameter, thickness)\n",
    "    return (force) / (2 * diameter * thickness)\n",
    "end\n",
    "\n",
    "\"\"\"\n",
    "cross_bar_bearing_stress_round(force, diameter, diameter_crossbar), FOR ROUND CROSSBAR\n",
    "This function returns the bearing stress in the crossbar for a solid round\n",
    "\n",
    "force is the force in the crossbar\n",
    "diameter is the diameter of the hole in the crossbar\n",
    "diameter_crossbar is the diameter of the crossbar\n",
    "\"\"\"\n",
    "function cross_bar_bearing_stress_round(force, diameter, diameter_crossbar)\n",
    "    return (force) / (diameter * diameter_crossbar)\n",
    "end\n",
    "\n",
    "\"\"\"\n",
    "pin_bearing_stress(force, diameter, thickness), FOR SQUARE CROSSBAR\n",
    "This function returns the bearing stress in the pin for a square shape crossbar\n",
    "\n",
    "force is the force in the crossbar\n",
    "diameter is the diameter of the pin\n",
    "thickness is the thickness of the crossbar\n",
    "\"\"\"\n",
    "function pin_bearing_stress(force, diameter, thickness)\n",
    "    return (force) / (2 * diameter * thickness)\n",
    "end\n",
    "\n",
    "\"\"\"\n",
    "pin_bearing_stress(force, diameter, diameter_crossbar), FOR ROUND CROSSBAR\n",
    "This function returns the bearing stress in the pin for a solid round crossbar\n",
    "\n",
    "force is the force in the crossbar\n",
    "diameter is the diameter of the pin\n",
    "diameter_crossbar is the diameter of the crossbar\n",
    "\"\"\"\n",
    "function pin_bearing_stress(force, diameter, diameter_crossbar)\n",
    "    return (force) / (diameter * diameter_crossbar)\n",
    "end\n",
    "\n",
    "\"\"\"\n",
    "diagonal_bar_tearout_stress(force, length, thickness)\n",
    "This function returns the tearout stress in the diagonal bar\n",
    "\n",
    "force is the force in the diagonal member\n",
    "length is the distance from the center of the hole to the edge of the diagonal member\n",
    "thickness is the thickness of the diagonal member\n",
    "\"\"\"\n",
    "function diagonal_bar_tearout_stress(force, length, thickness)\n",
    "    return (force) / (4 * length * thickness)\n",
    "end\n",
    "\n",
    "\"\"\"\n",
    "diagonal_bar_tensile_stress(force, width, diameter, thickness)\n",
    "This function returns the tensile stress in the diagonal bar\n",
    "\n",
    "force is the force in the diagonal member\n",
    "width is the width of the diagonal member\n",
    "diameter is the diameter of the hole in the diagonal member\n",
    "thickness is the thickness of the diagonal member\n",
    "\"\"\"\n",
    "function diagonal_bar_tensile_stress(force, width, diameter, thickness)\n",
    "    return (force) / ((width - diameter) * thickness * 2)\n",
    "end\n",
    "\n",
    "\"\"\"\n",
    "pin_direct_shear(force, n, diameter)\n",
    "This function returns the direct shear force in the pin\n",
    "\n",
    "force is the force in the cross bar\n",
    "n is the number of shear planes in the pin\n",
    "diameter is the diameter of the pin\n",
    "\"\"\"\n",
    "function pin_direct_shear(force, n, diameter)\n",
    "    return (force) / (n * (pi / 4) * (diameter ^ 2))\n",
    "end\n",
    "\n",
    "\"\"\"\n",
    "von_mises_stress(sigma_x, sigma_y, tau_xy)\n",
    "This function returns the von-mises stress from plane stress\n",
    "\n",
    "sigma_x is the stress in the x direction\n",
    "sigma_y is the stress in the y direction\n",
    "tau_xy is the shear in the xy direction\n",
    "\"\"\"\n",
    "function von_mises_stress(sigma_x, sigma_y, tau_xy)\n",
    "    return sqrt((sigma_x^2) + (sigma_y^2) - (sigma_x*sigma_y) + (3*(tau_xy^2)))\n",
    "end\n",
    "\n",
    "#############################################################################\n",
    "# Buckling functions:\n",
    "#############################################################################\n",
    "\n",
    "function k(I, A)\n",
    "    return sqrt(I / A)\n",
    "end\n",
    "\n",
    "function l_over_k_1(c, E, s_y)\n",
    "    return sqrt((2*(pi^2)*c*E) / (s_y))\n",
    "end\n",
    "\n",
    "function s_r(l, k)\n",
    "    return l / k\n",
    "end\n",
    "\n",
    "\"\"\"\n",
    "max_load_buckling(c, E, s_y, I, A, l)\n",
    "This function returns the critical loading force for an Euler or Johnson column\n",
    "\n",
    "c is the end-condition coefficient\n",
    "E is the modulus of Elasticity\n",
    "s_y is the yield strength\n",
    "I is the moment of inertia\n",
    "A is the area\n",
    "l is the length\n",
    "\"\"\"\n",
    "function max_load_buckling(c, E, s_y, I, A, l)\n",
    "    K = k(I, A)\n",
    "    lk1 = l_over_k_1(c, E, s_y)\n",
    "    S_r = s_r(l, K)\n",
    "    if S_r > lk1\n",
    "        return (A * c * (pi^2) * E) / (S_r ^ 2)\n",
    "    else\n",
    "        return A * (s_y - (1 / (c * E)) * ((s_y * S_r) / (2 * pi))^2)\n",
    "    end\n",
    "end"
   ]
  },
  {
   "cell_type": "markdown",
   "metadata": {},
   "source": [
    "## Tearout on Diagonal Member"
   ]
  },
  {
   "cell_type": "markdown",
   "metadata": {},
   "source": [
    "### Failure Criteria: Von-Mises\n",
    "### Strength Value Used: $S_{y,d} = 16000$ psi\n",
    "### Stress Equation: $\\sigma_{tearout, d} = \\frac{F_d}{4*l*t}$"
   ]
  },
  {
   "cell_type": "code",
   "execution_count": 14,
   "metadata": {},
   "outputs": [
    {
     "data": {
      "text/plain": [
       "2375.8406309295137"
      ]
     },
     "metadata": {},
     "output_type": "display_data"
    }
   ],
   "source": [
    "function safety_diagonal_tear(applied_force)\n",
    "    F_d, F_cb = scissor_forces(applied_force, l_cb, diagonal_length = l_d)\n",
    "    sigma_nom = diagonal_bar_tearout_stress(F_d, l, t_d)\n",
    "    sigma_von = von_mises_stress(0.0, 0.0, sigma_nom)\n",
    "    n = S_y_d / sigma_von\n",
    "    return n\n",
    "end\n",
    "find_zero(force -> safety_diagonal_tear(force) - 1, 700.0)"
   ]
  },
  {
   "cell_type": "markdown",
   "metadata": {},
   "source": [
    "### Applied Load Predicted to Cause Failure: $2375.84$ lbf"
   ]
  },
  {
   "cell_type": "markdown",
   "metadata": {},
   "source": [
    "## Axial on Diagonal Member "
   ]
  },
  {
   "cell_type": "markdown",
   "metadata": {},
   "source": [
    "### Failure Criteria: Von-Mises\n",
    "### Strength Value Used: $S_{y,d} = 16000$ psi\n",
    "### Stress Equation: $\\sigma_{axial,d} = \\frac{F_d}{2*t_d*(w_d-d)}$"
   ]
  },
  {
   "cell_type": "code",
   "execution_count": 15,
   "metadata": {},
   "outputs": [
    {
     "data": {
      "text/plain": [
       "5143.845854320518"
      ]
     },
     "metadata": {},
     "output_type": "display_data"
    }
   ],
   "source": [
    "function safety_diagonal_axial(applied_force)\n",
    "    F_d, F_cb = scissor_forces(applied_force, l_cb, diagonal_length = l_d)\n",
    "    sigma_nom = diagonal_bar_tensile_stress(F_d, w_d, d, t_d)\n",
    "    sigma_von = von_mises_stress(sigma_nom, 0.0, 0.0)\n",
    "    n = S_y_d / sigma_von\n",
    "    return n\n",
    "end\n",
    "find_zero(force -> safety_diagonal_axial(force) - 1, 700.0)"
   ]
  },
  {
   "cell_type": "markdown",
   "metadata": {},
   "source": [
    "### Applied Load Predicted to Cause Failure: $5143.85$ lbf"
   ]
  },
  {
   "cell_type": "markdown",
   "metadata": {},
   "source": [
    "## Bearing Stress on Diagonal Member"
   ]
  },
  {
   "cell_type": "markdown",
   "metadata": {},
   "source": [
    "### Failure Criteria: Von-Mises\n",
    "### Strength Value Used: $S_{y,d} = 16000$ psi\n",
    "### Stress Equation: $\\sigma_{bearing,d} = \\frac{F_d}{2*t_d*d}$"
   ]
  },
  {
   "cell_type": "code",
   "execution_count": 16,
   "metadata": {},
   "outputs": [
    {
     "data": {
      "text/plain": [
       "1285.9614635801295"
      ]
     },
     "metadata": {},
     "output_type": "display_data"
    }
   ],
   "source": [
    "function safety_diagonal_bearing(applied_force)\n",
    "    F_d, F_cb = scissor_forces(applied_force, l_cb, diagonal_length = l_d)\n",
    "    sigma_nom = diagonal_bar_bearing_stress(F_d, d, t_d)\n",
    "    sigma_von = von_mises_stress(sigma_nom, 0.0, 0.0)\n",
    "    n = S_y_d / sigma_von\n",
    "    return n\n",
    "end\n",
    "find_zero(force -> safety_diagonal_bearing(force) - 1, 700.0)"
   ]
  },
  {
   "cell_type": "markdown",
   "metadata": {},
   "source": [
    "### Applied Load Predicted to Cause Failure: $1285.96$ lbf"
   ]
  },
  {
   "cell_type": "markdown",
   "metadata": {},
   "source": [
    "# Bearing Stress on Crossbar"
   ]
  },
  {
   "cell_type": "markdown",
   "metadata": {},
   "source": [
    "### Failure Criteria: Von-Mises\n",
    "### Strength Value Used: $S_{y,d} = 32000$ psi\n",
    "### Stress Equation: $\\sigma_{bearing,cb} = \\frac{F_{cb}}{2*t_{cb}*d}$"
   ]
  },
  {
   "cell_type": "code",
   "execution_count": null,
   "metadata": {},
   "outputs": [
    {
     "data": {
      "text/plain": [
       "402.9740991864001"
      ]
     },
     "metadata": {},
     "output_type": "display_data"
    }
   ],
   "source": [
    "function safety_crossbar_bearing(applied_force)\n",
    "    F_d, F_cb = scissor_forces(applied_force, l_cb, diagonal_length = l_d)\n",
    "    sigma_nom = cross_bar_bearing_stress_round(F_cb, d, d_cb)\n",
    "    sigma_von = von_mises_stress(sigma_nom, 0.0, 0.0)\n",
    "    n = S_y_cb / sigma_von\n",
    "    return n\n",
    "end\n",
    "find_zero(force -> safety_crossbar_bearing(force) - 1, 700.0)"
   ]
  },
  {
   "cell_type": "markdown",
   "metadata": {},
   "source": [
    "### Applied Load Predicted to Cause Failure: $805.94$ lbf"
   ]
  },
  {
   "cell_type": "markdown",
   "metadata": {},
   "source": [
    "## Buckling on Crossbar"
   ]
  },
  {
   "cell_type": "markdown",
   "metadata": {},
   "source": [
    "### Failure Criteria: Euler/Johnson (Johnson was used this particular time, but the function I have will use the most appropriate one)\n",
    "### Strength Value Used: $S_{y,cb} = 32000$ psi, $E_{cb} = 30000000$ psi\n",
    "### Stress Equation: \n",
    "### Johnson: $P_{cr} = A[S_{yc} - (\\frac{1}{CE})(\\frac{S_{yc}S_r}{2\\pi})^2]$\n",
    "### Euler: $P_{cr} = AC\\frac{\\pi^2E}{S_r^2}$"
   ]
  },
  {
   "cell_type": "code",
   "execution_count": 18,
   "metadata": {},
   "outputs": [
    {
     "data": {
      "text/plain": [
       "2441.584613881853"
      ]
     },
     "metadata": {},
     "output_type": "display_data"
    }
   ],
   "source": [
    "function safety_buckling_crossbar(applied_force) #for square cross section crossbar\n",
    "    F_d, F_cb = scissor_forces(applied_force, l_cb, diagonal_length = l_d)\n",
    "    A = (w_cb ^ 2) - (w_cb - (2 * t_cb)) ^ 2\n",
    "    I = ((w_cb ^ 4 / 12)) - ((w_cb - (2 * t_cb)) ^ 4 / 12)\n",
    "    max_buck = max_load_buckling(C, E_cb, S_y_cb, I, A, l_cb)\n",
    "    n = max_buck / F_cb\n",
    "    return n\n",
    "end\n",
    "find_zero(force -> safety_buckling_crossbar(force) - 1, 700.0)"
   ]
  },
  {
   "cell_type": "code",
   "execution_count": 20,
   "metadata": {},
   "outputs": [
    {
     "data": {
      "text/plain": [
       "3728.6437688087767"
      ]
     },
     "metadata": {},
     "output_type": "display_data"
    }
   ],
   "source": [
    "function safety_buckling_crossbar_round(applied_force) #for solid round cross section crossbar\n",
    "    F_d, F_cb = scissor_forces(applied_force, l_cb, diagonal_length = l_d)\n",
    "    A = ((d_cb / 2) ^ 2) * pi\n",
    "    I = (pi / 64) * ((d_cb) ^ 4)\n",
    "    max_buck = max_load_buckling(C, E_cb, S_y_cb, I, A, l_cb)\n",
    "    n = max_buck / F_cb\n",
    "    return n\n",
    "end\n",
    "find_zero(force -> safety_buckling_crossbar_round(force) - 1, 700.0)"
   ]
  },
  {
   "cell_type": "markdown",
   "metadata": {},
   "source": [
    "### Applied Load Predicted to Cause Failure: $2441.58$ lbf"
   ]
  },
  {
   "cell_type": "markdown",
   "metadata": {},
   "source": [
    "## Shear on Pin"
   ]
  },
  {
   "cell_type": "markdown",
   "metadata": {},
   "source": [
    "### Failure Criteria: Von Mises\n",
    "### Strength Value Used: $S_{y,p} = 140000$ psi\n",
    "### Stress Equation: $\\tau_{direct,p} = \\frac{F_{cb}}{N*(\\pi/4)*d^2}$"
   ]
  },
  {
   "cell_type": "code",
   "execution_count": 8,
   "metadata": {},
   "outputs": [
    {
     "data": {
      "text/plain": [
       "6661.978065559953"
      ]
     },
     "execution_count": 8,
     "metadata": {},
     "output_type": "execute_result"
    }
   ],
   "source": [
    "function safety_pin_shear(applied_force)\n",
    "    F_d, F_cb = scissor_forces(applied_force, l_cb, diagonal_length = l_d)\n",
    "    tau_nom = pin_direct_shear(F_cb, N, d)\n",
    "    sigma_von = von_mises_stress(0.0, 0.0, tau_nom)\n",
    "    n = S_y_p / sigma_von\n",
    "    return n\n",
    "end\n",
    "find_zero(force -> safety_pin_shear(force) - 1, 700.0)"
   ]
  },
  {
   "cell_type": "markdown",
   "metadata": {},
   "source": [
    "### Applied Load Predicted to Cause Failure: $6661.98$ lbf"
   ]
  },
  {
   "cell_type": "markdown",
   "metadata": {},
   "source": [
    "## Bearing Stress on Pin"
   ]
  },
  {
   "cell_type": "markdown",
   "metadata": {},
   "source": [
    "### Failure Criteria: Von-Mises\n",
    "### Strength Value Used: $S_{y,p} = 140000$ psi\n",
    "### Stress Equation: $\\sigma_{bearing,p} = \\frac{F_{cb}}{2*d*t_{cb}}$"
   ]
  },
  {
   "cell_type": "code",
   "execution_count": 9,
   "metadata": {},
   "outputs": [
    {
     "data": {
      "text/plain": [
       "3526.0233678810005"
      ]
     },
     "execution_count": 9,
     "metadata": {},
     "output_type": "execute_result"
    }
   ],
   "source": [
    "function safety_pin_shear(applied_force)\n",
    "    F_d, F_cb = scissor_forces(applied_force, l_cb, diagonal_length = l_d)\n",
    "    sigma_nom = pin_bearing_stress(F_cb, d, t_cb)\n",
    "    tau_nom = pin_direct_shear(F_cb, N, d)\n",
    "    sigma_von = von_mises_stress(sigma_nom, 0.0, 0.0)\n",
    "    n = S_y_p / sigma_von\n",
    "    return n\n",
    "end\n",
    "find_zero(force -> safety_pin_shear(force) - 1, 700.0)"
   ]
  },
  {
   "cell_type": "markdown",
   "metadata": {},
   "source": [
    "### Applied Load Predicted to Cause Failure: $3526.02$ lbf"
   ]
  },
  {
   "cell_type": "markdown",
   "metadata": {},
   "source": [
    "\n",
    "| Analysis Number | Location of Failure | Failure Mode | Strength Value Used | Stress Equation | Applied Load Predicted to Cause Failure (lbf) |\n",
    "|------|------|------|------|------|------|\n",
    "|  1   | Diagonal Member | Tearout | $S_{y,d} = 16000$ psi | $\\sigma_{tearout, d} = \\frac{F_d}{4*l*t}$ | 2375.84 |\n",
    "|  2   | Diagonal Member | Axial | $S_{y,d} = 16000$ psi   | $\\sigma_{axial,d} = \\frac{F_d}{2*t_d*(w_d-d)}$ | 5143.85 |\n",
    "|  3   | Diagonal Member | Bearing Stress | $S_{y,d} = 16000$ psi   | $\\sigma_{bearing,d} = \\frac{F_d}{2*t_d*d}$ | 1285.96 |\n",
    "|  4   | Crossbar | Bearing Stress | $S_{y,cb} = 32000$ psi   | $\\sigma_{bearing,cb} = \\frac{F_{cb}}{2*t_{cb}*d}$ | 805.94 |\n",
    "|  5   | Crossbar | Buckling | $S_{y,cb} = 32000$ psi | Johnson: $P_{cr} = A[S_{yc} - (\\frac{1}{CE})(\\frac{S_{yc}S_r}{2\\pi})^2]$ Euler: $P_{cr} = AC\\frac{\\pi^2E}{S_r^2}$ | 2441.58 |\n",
    "|  6   | Pin | Shear | $S_{y,p} = 140000$ psi | $\\tau_{direct,p} = \\frac{F_{cb}}{N*(\\pi/4)*d^2}$ | 6661.98 |\n",
    "|  7   | Pin | Bearing Stress | $S_{y,p} = 140000$ psi   | $\\sigma_{bearing,p} = \\frac{F_{cb}}{2*d*t_{cb}}$ | 3526.02 |\n"
   ]
  },
  {
   "cell_type": "markdown",
   "metadata": {},
   "source": [
    "## a. What values in the experiments are most comparable to the model predictions?"
   ]
  },
  {
   "cell_type": "markdown",
   "metadata": {},
   "source": [
    "Our model predictions predicted tearout yielding at about 2375 lbf and buckling at about 2440 lbf, which were the lowest two points of failure... if you ignore the fact that bearing stress on both the diagonal member and the crossbar was supposed to have yielding at about a third to half of that. Setting aside the bearing, our model predictions line up quite closely to the yield loads in all three tests. (We are expecting the material properties we used to be underestimates, such that the real material will slightly outpreform the model.) \n",
    "\n",
    "If we look at all three of these failure modes together, they all show up in the images. And perhaps the reason that bearing failure wasn't listed as a failure mode was because it progressed to the part where it became tearout."
   ]
  },
  {
   "cell_type": "markdown",
   "metadata": {},
   "source": [
    "## b. What are the key reasons for differences between the models and the experiments? Be sure to address issues around all aspects of the experiments (materials, dimensions, etc.) and the calculations (assumptions)."
   ]
  },
  {
   "cell_type": "markdown",
   "metadata": {},
   "source": [
    "Probably the most glaring difference between the experimental results and the model is the fact that bearing failure wasn't the cause of failure every time as it has by far the lowest load for failure. What makes sense to me is that some yielding in the holes on the diagonal members was not sufficient to cause catastrophic failure, and as a result, it didn't show in the experimental results. (Although you can see plastic deformation around the holes on the diagonal members.) \n",
    "\n",
    "In brief, here are some discrepancies between the model and the real experiment:\n",
    "1) Material properties. The advertized material properties likely represent a lower threshold for the actual material properties. This helps explain why the yielding loads were close, but larger than the predicted yielding load.\n",
    "\n",
    "2) Geometry differences. In the model we assumed things like the bearing area was the projected area of the inside of the hole or assumed that the shear was similar to that caused by a pin holding together just two sheets of metal. This last one is rather different from our situation where we had (on one half of the pin three sheets of metal being \"pulled\" in three different angles.)\n",
    "\n",
    "3) The end condition coefficient for buckling is also a rather inprecise number. Using 1 gives us a decent model, but it even varies on the chart provided to us in class depending on how risky you want to be in your design.\n",
    "\n",
    "4) Another important consideration is that the mathematical model assumes a perfect symmetrical loading, while that is not necessarily the case in the experiments."
   ]
  },
  {
   "cell_type": "markdown",
   "metadata": {},
   "source": [
    "## c. Which 1-2 issues are likely to be most significant sources of differences? Justify your explanation."
   ]
  },
  {
   "cell_type": "markdown",
   "metadata": {},
   "source": [
    "I would say that the largest issue is the fact that yielding due to bearing doesn't appear. I would expct to see it, if not the cause of catastrophic failure, resulting in a much lower yield load. I can't think of any significant assumptions which would so drastically change the value of load under which yielding due to bearing would occur. From the pictures, it looks like it did occur, but it did not cause a great change in the displacement vs load figure. \n",
    "\n",
    "Other than that, I would make the case that the material values used for the material properties is the single greatest cause for any differences. However, it is wise for a company to advertise their material properties as being on the low end of the actual range for their product. "
   ]
  },
  {
   "cell_type": "markdown",
   "metadata": {},
   "source": [
    "## d. Based on these observations with a ductile material, What level of accuracy would you expect from the hand calculations? (Express as a percentage). Express any assumptions behind your answer."
   ]
  },
  {
   "cell_type": "markdown",
   "metadata": {},
   "source": [
    "I am going to assume that there was bearing failure in the holes of the diagonal members more or less where we expected, but that it doesn't show up in the data. \n",
    "\n",
    "With that assumption, we expected failure due to yielding at 2375 lbf. Comparing this to the average of the three tests, we have an error of about 9.92% of the real yield load when predicting the yield load. Considering the fact that we want to operate with a safety factor greater than 1, this is acceptable."
   ]
  },
  {
   "cell_type": "code",
   "execution_count": 14,
   "metadata": {},
   "outputs": [
    {
     "data": {
      "text/plain": [
       "19.643120369710566"
      ]
     },
     "execution_count": 14,
     "metadata": {},
     "output_type": "execute_result"
    }
   ],
   "source": [
    "function fatigue(d)\n",
    "    sigma = (138528)*(d^-3)*(1/(1+(-0.304521/(sqrt(d)))))\n",
    "    design_factor = 1.6\n",
    "    b = (-1/3)*log10(98.4/(39.0276*(d^-0.107)))\n",
    "    a = (98.4)/(1000^b)\n",
    "    N = 10*950*60\n",
    "    return (sigma*design_factor)-a*(N^b)\n",
    "end\n",
    "find_zero(fatigue, 0.5)"
   ]
  }
 ],
 "metadata": {
  "kernelspec": {
   "display_name": "Julia 1.11.4",
   "language": "julia",
   "name": "julia-1.11"
  },
  "language_info": {
   "file_extension": ".jl",
   "mimetype": "application/julia",
   "name": "julia",
   "version": "1.11.4"
  }
 },
 "nbformat": 4,
 "nbformat_minor": 4
}
